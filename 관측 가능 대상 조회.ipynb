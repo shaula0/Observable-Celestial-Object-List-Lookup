{
 "cells": [
  {
   "cell_type": "markdown",
   "metadata": {},
   "source": [
    "<table align=\"left\">\n",
    "  <td>\n",
    "    <a target=\"_blank\" href=\"https://colab.research.google.com/github/shaula0/Observable-Celestial-Object-List-Lookup/blob/92f3b6493dc0b9aa1e85dfe9138b59ba6569c97a/%EA%B4%80%EC%B8%A1%20%EA%B0%80%EB%8A%A5%20%EB%8C%80%EC%83%81%20%EC%A1%B0%ED%9A%8C.ipynb\"><img src=\"https://www.tensorflow.org/images/colab_logo_32px.png\" />구글 코랩에서 실행하기</a>\n",
    "  </td>\n",
    "</table>"
   ]
  },
  {
   "cell_type": "markdown",
   "metadata": {
    "id": "Nq9LWzaLpfiO"
   },
   "source": [
    "* 작성자: 정재영 (Jeong Jaeyoung)\n",
    "* 이메일: shaula0@naver.com\n",
    "* 작성일: 2025-03-10\n",
    "* 설명: 천체 관측 가능한 대상을 계산하는 코드\n",
    "* 요약: 일몰 시간 + 설정 시간(분) 부터 관측을 시작하며, 관측 종료 시간 까지 1시간 단위로 천체 목록을 조회하여, 설정 고도보다 높은 위치에 있을 경우 관측 가능 대상에 저장한다."
   ]
  },
  {
   "cell_type": "markdown",
   "metadata": {
    "id": "sva5qWdzptS5"
   },
   "source": [
    "# pip install"
   ]
  },
  {
   "cell_type": "code",
   "execution_count": null,
   "metadata": {
    "colab": {
     "base_uri": "https://localhost:8080/"
    },
    "executionInfo": {
     "elapsed": 11151,
     "status": "ok",
     "timestamp": 1741619793340,
     "user": {
      "displayName": "Jaeyoung Jeong",
      "userId": "14387671912167104849"
     },
     "user_tz": -540
    },
    "id": "tTW-585ynbKl",
    "outputId": "5805c937-fe75-4235-9f08-f388300ebf2d"
   },
   "outputs": [],
   "source": [
    "# !pip install astropy\n",
    "# !pip insatll astroplan\n",
    "# !pip install tabulate\n",
    "# !pip install tqdm\n",
    "# !pip install pandas\n",
    "!pip install astroplan"
   ]
  },
  {
   "cell_type": "code",
   "execution_count": null,
   "metadata": {
    "executionInfo": {
     "elapsed": 1075,
     "status": "ok",
     "timestamp": 1741619803226,
     "user": {
      "displayName": "Jaeyoung Jeong",
      "userId": "14387671912167104849"
     },
     "user_tz": -540
    },
    "id": "WYqtcHbGnXTw"
   },
   "outputs": [],
   "source": [
    "from astropy.coordinates import EarthLocation, AltAz, get_body, SkyCoord\n",
    "from astropy.time import Time\n",
    "from astroplan import Observer\n",
    "from tabulate import tabulate\n",
    "from tqdm import tqdm\n",
    "import pandas as pd\n",
    "import datetime\n",
    "import numpy as np"
   ]
  },
  {
   "cell_type": "markdown",
   "metadata": {
    "id": "Zi5cYv6XocHa"
   },
   "source": [
    "# 변수 설정"
   ]
  },
  {
   "cell_type": "code",
   "execution_count": null,
   "metadata": {
    "executionInfo": {
     "elapsed": 38,
     "status": "ok",
     "timestamp": 1741619902025,
     "user": {
      "displayName": "Jaeyoung Jeong",
      "userId": "14387671912167104849"
     },
     "user_tz": -540
    },
    "id": "YEIPMOWAnw7N"
   },
   "outputs": [],
   "source": [
    "# 조회 날짜\n",
    "start_date = datetime.date(2025, 1, 1)\n",
    "end_date = datetime.date(2025, 12, 31)\n",
    "\n",
    "# 관측 종료 시간(시, 분)\n",
    "end_hour = 20\n",
    "end_min = 30\n",
    "\n",
    "# (태양계) 일몰 n분 후 부터 조회\n",
    "planet_after_sunset_min = 30\n",
    "\n",
    "# (태양계외 천체) 일몰 n분 후 부터 조회\n",
    "deepsky_after_sunset_min = 70\n",
    "\n",
    "# 관측 위치\n",
    "loc = EarthLocation(lat=33.444558, lon=126.549283, height=394)  # 별빛누리 경도, 위도\n",
    "\n",
    "# 관측 대상 고도 n이상\n",
    "target_altitude = 25\n",
    "\n",
    "# 조회 천체 목록 (태양계)\n",
    "solar_objects = [\n",
    "    \"moon\",     # 달\n",
    "    \"venus\",    # 금성\n",
    "    \"mars\",     # 화성\n",
    "    \"jupiter\",  # 목성\n",
    "    \"saturn\"    # 토성\n",
    "]\n",
    "\n",
    "# 조회 천체 목록 (태양계외 천체) (적경 RA, 적위 Dec)\n",
    "non_solar_objects = [\n",
    "    [\"M31\", (10.6847, 41.2692)],    # 안드로메다 은하\n",
    "    [\"M42\", (83.8221, -5.3911)],    # 오리온 성운\n",
    "    [\"M45\", (56.75, 24.1167)],      # 플레이아데스 성단\n",
    "    [\"M13\", (250.423, 36.4613)],    # 헤라클레스 구상성단\n",
    "    [\"M57\", (283.396, 33.0257)]     # 고리성운\n",
    "]"
   ]
  },
  {
   "cell_type": "markdown",
   "metadata": {},
   "source": [
    "## 메시에 목록 (숨김)"
   ]
  },
  {
   "cell_type": "markdown",
   "metadata": {},
   "source": [
    "```\n",
    "non_solar_objects = [\n",
    "    [\"M1\", (83.6331, 22.0145)],    # 게 성운\n",
    "    [\"M2\", (323.3624, -0.8233)],   # 구상성단\n",
    "    [\"M3\", (205.5482, 28.3776)],   # 구상성단\n",
    "    [\"M4\", (245.8964, -26.5256)],  # 구상성단\n",
    "    [\"M5\", (229.6384, 2.0819)],    # 구상성단\n",
    "    [\"M6\", (265.075, -32.2167)],   # 나비 성단\n",
    "    [\"M7\", (267.92, -34.7833)],    # 프톨레마이오스 성단\n",
    "    [\"M8\", (270.925, -24.38)],     # 라군 성운\n",
    "    [\"M9\", (259.7992, -18.5164)],  # 구상성단\n",
    "    [\"M10\", (254.2875, -4.1)],     # 구상성단\n",
    "    [\"M11\", (282.7692, -6.2681)],  # 야생오리 성단\n",
    "    [\"M12\", (251.8097, -1.9486)],  # 구상성단\n",
    "    [\"M13\", (250.423, 36.4613)],   # 헤라클레스 구상성단\n",
    "    [\"M14\", (264.4017, -3.2458)],  # 구상성단\n",
    "    [\"M15\", (322.4933, 12.167)],   # 구상성단\n",
    "    [\"M16\", (274.7, -13.8)],       # 독수리 성운\n",
    "    [\"M17\", (275.325, -16.1717)],  # 오메가 성운\n",
    "    [\"M18\", (275.625, -17.1333)],  # 산개성단\n",
    "    [\"M19\", (255.6571, -26.268)],  # 구상성단\n",
    "    [\"M20\", (270.66, -22.9722)],   # 삼렬 성운\n",
    "    [\"M21\", (270.65, -22.5)],      # 산개성단\n",
    "    [\"M22\", (280.46, -23.9)],      # 구상성단\n",
    "    [\"M23\", (269.15, -19.0167)],   # 산개성단\n",
    "    [\"M24\", (274.25, -18.5)],      # 성운형 성단\n",
    "    [\"M25\", (277.96, -19.1167)],   # 산개성단\n",
    "    [\"M26\", (281.05, -9.3833)],    # 산개성단\n",
    "    [\"M27\", (299.898, 22.7216)],   # 아령 성운\n",
    "    [\"M28\", (276.1362, -24.8695)], # 구상성단\n",
    "    [\"M29\", (305.8833, 38.525)],   # 산개성단\n",
    "    [\"M30\", (325.0929, -23.1792)], # 구상성단\n",
    "    [\"M31\", (10.6847, 41.2692)],   # 안드로메다 은하\n",
    "    [\"M32\", (10.6743, 40.8667)],   # 안드로메다 위성 은하\n",
    "    [\"M33\", (23.4621, 30.66)],     # 삼각형자리 은하\n",
    "    [\"M34\", (40.5167, 42.7833)],   # 산개성단\n",
    "    [\"M35\", (92.375, 24.3333)],    # 산개성단\n",
    "    [\"M36\", (84.05, 34.1333)],     # 산개성단\n",
    "    [\"M37\", (88.0833, 32.55)],     # 산개성단\n",
    "    [\"M38\", (81.117, 35.85)],      # 산개성단\n",
    "    [\"M39\", (323.4, 48.4333)],     # 산개성단\n",
    "    [\"M40\", (184.7883, 58.0833)],  # 쌍성\n",
    "    [\"M41\", (101.5, -20.75)],      # 산개성단\n",
    "    [\"M42\", (83.8221, -5.3911)],   # 오리온 성운\n",
    "    [\"M43\", (83.8, -5.2833)],      # 오리온 성운 일부\n",
    "    [\"M44\", (130.0667, 19.6667)],  # 프레세페 성단\n",
    "    [\"M45\", (56.75, 24.1167)],     # 플레이아데스 성단\n",
    "    [\"M46\", (115.45, -14.8167)],   # 산개성단\n",
    "    [\"M47\", (115.3, -14.4833)],    # 산개성단\n",
    "    [\"M48\", (123.55, -5.75)],      # 산개성단\n",
    "    [\"M49\", (187.4462, 8.0004)],   # 처녀자리 타원은하\n",
    "    [\"M50\", (104.05, -8.3333)],    # 산개성단\n",
    "    [\"M51\", (202.4696, 47.1952)],  # 부자 은하 (소용돌이 은하)\n",
    "    [\"M52\", (351.0537, 61.5919)],  # 산개성단\n",
    "    [\"M53\", (198.2308, 18.1697)],  # 구상성단\n",
    "    [\"M54\", (283.764, -30.4794)],  # 구상성단\n",
    "    [\"M55\", (294.9979, -30.964)],  # 구상성단\n",
    "    [\"M56\", (289.1474, 30.1842)],  # 구상성단\n",
    "    [\"M57\", (283.396, 33.0257)],   # 고리 성운\n",
    "    [\"M58\", (189.4246, 11.8183)],  # 나선 은하\n",
    "    [\"M59\", (190.0075, 11.6464)],  # 타원 은하\n",
    "    [\"M60\", (190.9167, 11.5528)],  # 타원 은하\n",
    "    [\"M61\", (185.4783, 4.4736)],   # 나선 은하\n",
    "    [\"M62\", (255.3038, -30.1111)], # 구상성단\n",
    "    [\"M63\", (198.9517, 42.0292)],  # 해바라기 은하\n",
    "    [\"M64\", (194.1825, 21.6839)],  # 검은눈 은하\n",
    "    [\"M65\", (169.6656, 13.0924)],  # 나선 은하\n",
    "    [\"M66\", (170.0625, 12.9914)],  # 나선 은하\n",
    "    [\"M67\", (132.85, 11.8)],       # 산개성단\n",
    "    [\"M68\", (189.8667, -26.7447)], # 구상성단\n",
    "    [\"M69\", (277.8467, -32.3472)], # 구상성단\n",
    "    [\"M70\", (279.1, -32.3)],       # 구상성단\n",
    "    [\"M71\", (298.442, 18.78)],     # 구상성단\n",
    "    [\"M72\", (313.3667, -12.5333)], # 구상성단\n",
    "    [\"M73\", (314.6, -12.6333)],    # 성단?\n",
    "    [\"M74\", (24.1725, 15.7836)],   # 나선 은하\n",
    "    [\"M75\", (300.0833, -21.9167)], # 구상성단\n",
    "    [\"M76\", (25.5354, 51.5742)],   # 작은 아령 성운\n",
    "    [\"M77\", (40.6696, -0.0133)],   # 나선 은하\n",
    "    [\"M78\", (83.0833, 0.05)],      # 반사 성운\n",
    "    [\"M79\", (81.0421, -24.5244)],  # 구상성단\n",
    "    [\"M80\", (244.26, -22.976)],    # 구상성단\n",
    "    [\"M81\", (148.8882, 69.0653)],  # 보데 은하\n",
    "    [\"M82\", (148.9697, 69.6797)],  # 시가 은하\n",
    "    [\"M83\", (204.2533, -29.865)],  # 남쪽 바람개비 은하\n",
    "    [\"M84\", (190.9146, 12.8869)],  # 렌즈형 은하\n",
    "    [\"M85\", (186.3500, 18.1914)],  # 타원 은하\n",
    "    [\"M86\", (190.9150, 12.9452)],  # 렌즈형 은하\n",
    "    [\"M87\", (187.7059, 12.3911)],  # 거대 타원 은하 (블랙홀 포함)\n",
    "    [\"M88\", (190.1950, 14.4204)],  # 나선 은하\n",
    "    [\"M89\", (190.3921, 12.5569)],  # 타원 은하\n",
    "    [\"M90\", (190.7521, 13.1625)],  # 나선 은하\n",
    "    [\"M91\", (188.8283, 14.4969)],  # 막대나선 은하\n",
    "    [\"M92\", (259.2812, 43.1367)],  # 구상성단\n",
    "    [\"M93\", (116.1525, -23.8569)], # 산개성단\n",
    "    [\"M94\", (192.7212, 41.1197)],  # 나선 은하\n",
    "    [\"M95\", (161.8875, 11.7033)],  # 막대나선 은하\n",
    "    [\"M96\", (161.9625, 11.8208)],  # 나선 은하\n",
    "    [\"M97\", (168.6986, 55.0194)],  # 올빼미 성운\n",
    "    [\"M98\", (181.3667, 14.9000)],  # 나선 은하\n",
    "    [\"M99\", (185.0250, 14.4167)],  # 나선 은하\n",
    "    [\"M100\", (186.5354, 15.8211)], # 나선 은하\n",
    "    [\"M101\", (210.8021, 54.3489)], # 부자 은하\n",
    "    [\"M102\", (226.6250, 55.7633)], # 렌즈형 은하\n",
    "    [\"M103\", (23.3925, 60.7392)],  # 산개성단\n",
    "    [\"M104\", (189.9971, -11.6231)],# 소머리 은하\n",
    "    [\"M105\", (161.9562, 12.5819)], # 타원 은하\n",
    "    [\"M106\", (184.7396, 47.3036)], # 나선 은하\n",
    "    [\"M107\", (248.1333, -13.0517)],# 구상성단\n",
    "    [\"M108\", (167.7983, 55.6733)], # 나선 은하\n",
    "    [\"M109\", (179.3954, 53.3747)], # 나선 은하\n",
    "    [\"M110\", (10.0853, 41.6853)]   # 안드로메다 위성 은하\n",
    "]\n",
    "```"
   ]
  },
  {
   "cell_type": "markdown",
   "metadata": {
    "id": "4b8mpaFXo20h"
   },
   "source": [
    "# 관측 가능 천체 검색"
   ]
  },
  {
   "cell_type": "code",
   "execution_count": null,
   "metadata": {
    "colab": {
     "base_uri": "https://localhost:8080/"
    },
    "executionInfo": {
     "elapsed": 157592,
     "status": "ok",
     "timestamp": 1741620083286,
     "user": {
      "displayName": "Jaeyoung Jeong",
      "userId": "14387671912167104849"
     },
     "user_tz": -540
    },
    "id": "YlC5sMX8osH-",
    "outputId": "376c831b-09d2-48a4-a0f5-63b40b897e05"
   },
   "outputs": [],
   "source": [
    "# 관측자 설정 (UTC 기준)\n",
    "observer = Observer(location=loc)\n",
    "\n",
    "# 데이터프레임 초기화\n",
    "df = pd.DataFrame(columns=[\"날짜\", \"일몰시간\", \"관측가능 대상\"])\n",
    "\n",
    "def deg_to_dms(degrees):\n",
    "    \"\"\"십진수 도(deg)를 도(D) 분(M) 초(S) 형태로 변환\"\"\"\n",
    "    d = int(degrees)\n",
    "    m = int((degrees - d) * 60)\n",
    "    s = (degrees - d - m / 60) * 3600\n",
    "    return f\"{d}° {m}' {s:.2f}\\\"\"\n",
    "\n",
    "# 설정한 날짜 범위 for문\n",
    "for single_date in tqdm(range((end_date - start_date).days + 1)):\n",
    "    #검색 날짜\n",
    "    current_date = start_date + datetime.timedelta(days=single_date)\n",
    "\n",
    "    # 해당 날짜의 일몰 시간 계산 (UTC 기준)\n",
    "    sunset_time_utc = observer.sun_set_time(Time(current_date.strftime(\"%Y-%m-%d\")), which=\"nearest\")\n",
    "\n",
    "    # UTC → KST 변환 (UTC + 9시간)\n",
    "    sunset_time_kst = sunset_time_utc + datetime.timedelta(hours=9)\n",
    "\n",
    "    # 관측 종료 시간 KST → UTC 변환 (KST - 9시간)\n",
    "    end_time_utc = Time(datetime.datetime.combine(current_date, datetime.time(end_hour, end_min)) + datetime.timedelta(hours=-9))\n",
    "\n",
    "    # 조건에 맞는 관측 대상 담을 list 초기화\n",
    "    observable_list = []\n",
    "\n",
    "    # 태양계 반복문\n",
    "    for name in solar_objects:\n",
    "        # 관측 시작 시간 = 일몰 시간 + 일몰 후 설정 시간\n",
    "        current_time_utc = sunset_time_utc + datetime.timedelta(minutes = planet_after_sunset_min)\n",
    "\n",
    "        # 관측 끝 시간 - 관측 시작 시간\n",
    "        difference_time = end_time_utc - current_time_utc\n",
    "\n",
    "        # 분 단위로 변환\n",
    "        difference_time_to_min = difference_time.to_value('min')\n",
    "\n",
    "        # 관측 종료 시간이 일몰시간보다 빠른지 확인\n",
    "        if difference_time_to_min >= 0:\n",
    "            # 관측 시작 시간 + 1h > 관측 끝 시간 만큼 반복문\n",
    "            for _ in range(int(difference_time_to_min//60) + 2):\n",
    "                # 관측 마지막 시간 보다 크다면 마지막 설정 시간으로 계산\n",
    "                if current_time_utc >= end_time_utc:\n",
    "                    current_time_utc = end_time_utc\n",
    "\n",
    "                # 좌표계 생성\n",
    "                altaz = AltAz(location=loc, obstime=current_time_utc)\n",
    "\n",
    "                # 고도 계산\n",
    "                altitude = get_body(name, current_time_utc, loc).transform_to(altaz).alt.deg\n",
    "\n",
    "                # 설정 고도 이상일 경우 행성 이름 추가 후 종료\n",
    "                if altitude >= target_altitude:\n",
    "                    observable_list.append(name)\n",
    "                    break\n",
    "\n",
    "                # 시간 +1h\n",
    "                current_time_utc += datetime.timedelta(hours=1)\n",
    "        else:\n",
    "            print(current_time_utc.strftime(\"%Y-%m-%d\") + \"은 관측 종료 시간보다 일몰시간이 빠릅니다.\")\n",
    "\n",
    "    # 태양계외 천체 반복문\n",
    "    for name, (ra, dec) in non_solar_objects:\n",
    "        # Messier Object의 적경(RA), 적위(Dec) 설정\n",
    "        obj_coord = SkyCoord(ra=ra, dec=dec, unit=\"deg\")\n",
    "\n",
    "        # 관측 시작 시간 = 일몰 시간 + 일몰 후 설정 시간\n",
    "        current_time_utc = sunset_time_utc + datetime.timedelta(minutes = deepsky_after_sunset_min)\n",
    "\n",
    "        # 관측 끝 시간 - 관측 시작 시간\n",
    "        difference_time = end_time_utc - current_time_utc\n",
    "\n",
    "        # 분 단위로 변환\n",
    "        difference_time_to_min = difference_time.to_value('min')\n",
    "\n",
    "        # 관측 종료 시간이 일몰시간보다 빠른지 확인\n",
    "        if difference_time_to_min >= 0:\n",
    "            # 관측 시작 시간 + 1h > 관측 끝 시간 만큼 반복문\n",
    "            for _ in range(int(difference_time_to_min // 60) + 2):\n",
    "                # 관측 마지막 시간보다 크다면 마지막 설정 시간으로 계산\n",
    "                if current_time_utc >= end_time_utc:\n",
    "                    current_time_utc = end_time_utc\n",
    "\n",
    "                # 좌표계 생성\n",
    "                altaz = AltAz(location=loc, obstime=current_time_utc)\n",
    "\n",
    "                # 고도 계산\n",
    "                altitude = obj_coord.transform_to(altaz).alt.deg\n",
    "\n",
    "                # 설정 고도 이상일 경우 행성 이름 추가 후 종료\n",
    "                if altitude >= target_altitude:\n",
    "                    observable_list.append(name)\n",
    "                    break\n",
    "\n",
    "                # 시간 +1h\n",
    "                current_time_utc += datetime.timedelta(hours=1)\n",
    "        else:\n",
    "            print(current_time_utc.strftime(\"%Y-%m-%d\") + \"은 관측 종료 시간보다 일몰시간이 빠릅니다.\")\n",
    "\n",
    "    # 현재 날짜에 관측 가능한 대상 리스트를 DataFrame 형태로 변환\n",
    "    df_observable_list = pd.DataFrame([[current_date.strftime(\"%Y-%m-%d\"), sunset_time_kst.strftime(\"%H:%M\"), observable_list]], columns=[\"날짜\", \"일몰시간\", \"관측가능 대상\"])\n",
    "\n",
    "    # df에 추가\n",
    "    df = pd.concat([df, df_observable_list])\n",
    "\n",
    "# print(tabulate(df, headers='keys', tablefmt='psql', showindex=True))"
   ]
  },
  {
   "cell_type": "code",
   "execution_count": null,
   "metadata": {
    "colab": {
     "base_uri": "https://localhost:8080/"
    },
    "executionInfo": {
     "elapsed": 103,
     "status": "ok",
     "timestamp": 1741620333629,
     "user": {
      "displayName": "Jaeyoung Jeong",
      "userId": "14387671912167104849"
     },
     "user_tz": -540
    },
    "id": "RcNOBpbwqMc8",
    "outputId": "6c8ed82e-4d3f-42cd-9d70-6e96f912a79e"
   },
   "outputs": [],
   "source": [
    "print(tabulate(df, headers='keys', tablefmt='psql', showindex=True))"
   ]
  },
  {
   "cell_type": "code",
   "execution_count": null,
   "metadata": {
    "executionInfo": {
     "elapsed": 867,
     "status": "ok",
     "timestamp": 1741620198876,
     "user": {
      "displayName": "Jaeyoung Jeong",
      "userId": "14387671912167104849"
     },
     "user_tz": -540
    },
    "id": "x_TeqRrzovp2"
   },
   "outputs": [],
   "source": [
    "# excel 저장\n",
    "df.to_excel(start_date.strftime(\"%y%m%d\") + \"-\" + end_date.strftime(\"%y%m%d\") + \"_Sunset+30m-\" + str(end_hour).zfill(2) + \"h\" + str(end_min).zfill(2) + \"m_Alt\" + str(target_altitude) + \"deg+\" + \".xlsx\", index=False)"
   ]
  }
 ],
 "metadata": {
  "colab": {
   "authorship_tag": "ABX9TyMfJicvliWOU0a0P/fu+Q6r",
   "provenance": []
  },
  "kernelspec": {
   "display_name": "Python 3",
   "name": "python3"
  },
  "language_info": {
   "name": "python"
  }
 },
 "nbformat": 4,
 "nbformat_minor": 0
}
